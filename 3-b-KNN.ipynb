{
 "cells": [
  {
   "cell_type": "markdown",
   "id": "bdeac8a6",
   "metadata": {},
   "source": [
    "We will be using the Social_Network_Ads.csv file. the codes will be similar to logistic regression with minute changes in the model building"
   ]
  },
  {
   "cell_type": "markdown",
   "id": "8f1c7875",
   "metadata": {},
   "source": [
    "# Main Template:\n",
    "1 - Import the Libraries \\\n",
    "2 - Import the datasets \\\n",
    "3 - Splitting the dataset \\\n",
    "4 - Feature Scaling \\\n",
    "5 - Training the model \\\n",
    "6 - Prediction \\\n",
    "7 - Making the Confusion Matrix \\\n",
    "8 - Visualization"
   ]
  },
  {
   "cell_type": "markdown",
   "id": "2a57ba9d",
   "metadata": {},
   "source": [
    "# 1 - Import Libraries"
   ]
  },
  {
   "cell_type": "code",
   "execution_count": 3,
   "id": "87eb8998",
   "metadata": {},
   "outputs": [],
   "source": [
    "import numpy as np # used to facilitate scikit learn\n",
    "import matplotlib.pyplot as plt\n",
    "import pandas as pd # mainly to read the csv file"
   ]
  },
  {
   "cell_type": "markdown",
   "id": "c5bae63e",
   "metadata": {},
   "source": [
    "# 2 - Import dataset"
   ]
  },
  {
   "cell_type": "code",
   "execution_count": 4,
   "id": "f8780a15",
   "metadata": {},
   "outputs": [],
   "source": [
    "dataset = pd.read_csv('Social_Network_Ads.csv')\n",
    "\n",
    "#             rows, columns\n",
    "X = dataset.iloc[:, :-1].values\n",
    "y = dataset.iloc[:, -1].values"
   ]
  },
  {
   "cell_type": "markdown",
   "id": "c5b12ff7",
   "metadata": {},
   "source": [
    "# 3 - Splitting the Dataset\n",
    "Now we will start using sklearn"
   ]
  },
  {
   "cell_type": "code",
   "execution_count": 10,
   "id": "0368f889",
   "metadata": {},
   "outputs": [],
   "source": [
    "from sklearn.model_selection import train_test_split\n",
    "X_train, X_test, y_train, y_test = train_test_split(X, \n",
    "                                                    y, \n",
    "                                                    test_size=0.25, \n",
    "                                                    random_state=0)"
   ]
  },
  {
   "cell_type": "code",
   "execution_count": 11,
   "id": "04f3785e",
   "metadata": {},
   "outputs": [
    {
     "name": "stdout",
     "output_type": "stream",
     "text": [
      "[[    44  39000]\n",
      " [    32 120000]\n",
      " [    38  50000]]\n"
     ]
    }
   ],
   "source": [
    "print(X_train[:3])"
   ]
  },
  {
   "cell_type": "markdown",
   "id": "d2417d7a",
   "metadata": {},
   "source": [
    "# 4 - Feature Scaling"
   ]
  },
  {
   "cell_type": "code",
   "execution_count": 13,
   "id": "67b73aa2",
   "metadata": {},
   "outputs": [],
   "source": [
    "from sklearn.preprocessing import StandardScaler\n",
    "sc = StandardScaler()\n",
    "\n",
    "X_train = sc.fit_transform(X_train)\n",
    "X_test = sc.transform(X_test)"
   ]
  },
  {
   "cell_type": "code",
   "execution_count": 14,
   "id": "15342d44",
   "metadata": {},
   "outputs": [
    {
     "name": "stdout",
     "output_type": "stream",
     "text": [
      "[[ 0.58164944 -0.88670699]\n",
      " [-0.60673761  1.46173768]\n",
      " [-0.01254409 -0.5677824 ]]\n"
     ]
    }
   ],
   "source": [
    "print(X_train[:3])"
   ]
  },
  {
   "cell_type": "markdown",
   "id": "082cccf9",
   "metadata": {},
   "source": [
    "# 5 - Training the model"
   ]
  },
  {
   "cell_type": "code",
   "execution_count": 15,
   "id": "69eb2b44",
   "metadata": {},
   "outputs": [],
   "source": [
    "from sklearn.neighbors import KNeighborsClassifier"
   ]
  },
  {
   "cell_type": "code",
   "execution_count": 21,
   "id": "0f85f01a",
   "metadata": {},
   "outputs": [
    {
     "data": {
      "text/plain": [
       "KNeighborsClassifier()"
      ]
     },
     "execution_count": 21,
     "metadata": {},
     "output_type": "execute_result"
    }
   ],
   "source": [
    " # createing an object of the class\n",
    "classifier = KNeighborsClassifier(n_neighbors = 5, metric= 'minkowski', p = 2)\n",
    "# we can try with different n_neighbors\n",
    "# metric = 'minkowski' and p = 2 => euclidean_distance\n",
    "\n",
    "# train the classifier\n",
    "classifier.fit(X_train, y_train)"
   ]
  },
  {
   "cell_type": "markdown",
   "id": "0718231e",
   "metadata": {},
   "source": [
    "# 6 - Prediction"
   ]
  },
  {
   "cell_type": "code",
   "execution_count": 26,
   "id": "fd497f18",
   "metadata": {},
   "outputs": [
    {
     "name": "stdout",
     "output_type": "stream",
     "text": [
      "[0]\n"
     ]
    }
   ],
   "source": [
    "print(classifier.predict(sc.transform([[30, 87000]])))"
   ]
  },
  {
   "cell_type": "markdown",
   "id": "aad14221",
   "metadata": {},
   "source": [
    "### Predicting the test set"
   ]
  },
  {
   "cell_type": "code",
   "execution_count": 31,
   "id": "84a5b71d",
   "metadata": {},
   "outputs": [
    {
     "name": "stdout",
     "output_type": "stream",
     "text": [
      "[0 0 0 0 0 0 0 1 0 1 0 0 0 0 0 1 0 0 1 0 0 1 0 1 0 1 0 0 0 0 0 0 1 0 0 0 0\n",
      " 0 0 1 0 0 0 0 1 0 0 1 0 1 1 0 0 1 1 1 0 0 1 0 0 1 0 1 0 1 0 0 0 0 1 0 0 1\n",
      " 0 0 0 0 1 1 1 1 0 0 1 0 0 1 1 0 0 1 0 0 0 0 0 1 1 1]\n",
      "\n",
      "\n",
      "[0 0 0 0 0 0 0 1 0 0 0 0 0 0 0 0 0 0 1 0 0 1 0 1 0 1 0 0 0 0 0 1 1 0 0 0 0\n",
      " 0 0 1 0 0 0 0 1 0 0 1 0 1 1 0 0 0 1 1 0 0 1 0 0 1 0 1 0 1 0 0 0 0 1 0 0 1\n",
      " 0 0 0 0 1 1 1 0 0 0 1 1 0 1 1 0 0 1 0 0 0 1 0 1 1 1]\n"
     ]
    }
   ],
   "source": [
    "y_pred = classifier.predict(X_test)\n",
    "\n",
    "print(y_pred)\n",
    "print('\\n')\n",
    "print(y_test)"
   ]
  },
  {
   "cell_type": "markdown",
   "id": "611ee450",
   "metadata": {},
   "source": [
    "Notice it is not easy to compare the prediction and the real values. let us represent them in a different way. Let us try comparing a values horizontally. "
   ]
  },
  {
   "cell_type": "code",
   "execution_count": 34,
   "id": "746a96e1",
   "metadata": {
    "collapsed": true
   },
   "outputs": [
    {
     "name": "stdout",
     "output_type": "stream",
     "text": [
      "[[0 0]\n",
      " [0 0]\n",
      " [0 0]\n",
      " [0 0]\n",
      " [0 0]\n",
      " [0 0]\n",
      " [0 0]\n",
      " [1 1]\n",
      " [0 0]\n",
      " [1 0]\n",
      " [0 0]\n",
      " [0 0]\n",
      " [0 0]\n",
      " [0 0]\n",
      " [0 0]\n",
      " [1 0]\n",
      " [0 0]\n",
      " [0 0]\n",
      " [1 1]\n",
      " [0 0]\n",
      " [0 0]\n",
      " [1 1]\n",
      " [0 0]\n",
      " [1 1]\n",
      " [0 0]\n",
      " [1 1]\n",
      " [0 0]\n",
      " [0 0]\n",
      " [0 0]\n",
      " [0 0]\n",
      " [0 0]\n",
      " [0 1]\n",
      " [1 1]\n",
      " [0 0]\n",
      " [0 0]\n",
      " [0 0]\n",
      " [0 0]\n",
      " [0 0]\n",
      " [0 0]\n",
      " [1 1]\n",
      " [0 0]\n",
      " [0 0]\n",
      " [0 0]\n",
      " [0 0]\n",
      " [1 1]\n",
      " [0 0]\n",
      " [0 0]\n",
      " [1 1]\n",
      " [0 0]\n",
      " [1 1]\n",
      " [1 1]\n",
      " [0 0]\n",
      " [0 0]\n",
      " [1 0]\n",
      " [1 1]\n",
      " [1 1]\n",
      " [0 0]\n",
      " [0 0]\n",
      " [1 1]\n",
      " [0 0]\n",
      " [0 0]\n",
      " [1 1]\n",
      " [0 0]\n",
      " [1 1]\n",
      " [0 0]\n",
      " [1 1]\n",
      " [0 0]\n",
      " [0 0]\n",
      " [0 0]\n",
      " [0 0]\n",
      " [1 1]\n",
      " [0 0]\n",
      " [0 0]\n",
      " [1 1]\n",
      " [0 0]\n",
      " [0 0]\n",
      " [0 0]\n",
      " [0 0]\n",
      " [1 1]\n",
      " [1 1]\n",
      " [1 1]\n",
      " [1 0]\n",
      " [0 0]\n",
      " [0 0]\n",
      " [1 1]\n",
      " [0 1]\n",
      " [0 0]\n",
      " [1 1]\n",
      " [1 1]\n",
      " [0 0]\n",
      " [0 0]\n",
      " [1 1]\n",
      " [0 0]\n",
      " [0 0]\n",
      " [0 0]\n",
      " [0 1]\n",
      " [0 0]\n",
      " [1 1]\n",
      " [1 1]\n",
      " [1 1]]\n"
     ]
    }
   ],
   "source": [
    "print(np.concatenate((y_pred.reshape(len(y_pred), 1), \n",
    "                      y_test.reshape(len(y_test), 1)),\n",
    "                     1))"
   ]
  },
  {
   "cell_type": "markdown",
   "id": "26643dc7",
   "metadata": {},
   "source": [
    "# 7 - Confusion Matrix and Accuracy testing"
   ]
  },
  {
   "cell_type": "code",
   "execution_count": 35,
   "id": "0a4ce9c5",
   "metadata": {},
   "outputs": [],
   "source": [
    "from sklearn.metrics import confusion_matrix"
   ]
  },
  {
   "cell_type": "code",
   "execution_count": 41,
   "id": "fb327d33",
   "metadata": {},
   "outputs": [
    {
     "name": "stdout",
     "output_type": "stream",
     "text": [
      "[[64  4]\n",
      " [ 3 29]]\n"
     ]
    }
   ],
   "source": [
    "cm = confusion_matrix(y_test, y_pred)\n",
    "print(cm)"
   ]
  },
  {
   "cell_type": "code",
   "execution_count": 42,
   "id": "bd388077",
   "metadata": {},
   "outputs": [],
   "source": [
    "from sklearn.metrics import accuracy_score"
   ]
  },
  {
   "cell_type": "code",
   "execution_count": 44,
   "id": "51c1a505",
   "metadata": {},
   "outputs": [
    {
     "data": {
      "text/plain": [
       "0.93"
      ]
     },
     "execution_count": 44,
     "metadata": {},
     "output_type": "execute_result"
    }
   ],
   "source": [
    "ac = accuracy_score(y_test, y_pred)\n",
    "ac"
   ]
  },
  {
   "cell_type": "markdown",
   "id": "7aa2db1f",
   "metadata": {},
   "source": [
    "Our accuracy has improved from 0.89( from logistic regression)"
   ]
  },
  {
   "cell_type": "code",
   "execution_count": 49,
   "id": "a8d030ee",
   "metadata": {},
   "outputs": [],
   "source": [
    "# the graphs did not run since they need more space\n",
    "\n",
    "# from matplotlib.colors import ListedColormap\n",
    "# X_set, y_set = sc.inverse_transform(X_train), y_train\n",
    "# # for building the grid:\n",
    "# X1, X2 = np.meshgrid(np.arange(start = X_set[:, 0].min() - 10, stop = X_set[:, 0].max() + 10, step = 0.25),\n",
    "#                      np.arange(start = X_set[:, 1].min() - 1000, stop = X_set[:, 1].max() + 1000, step = 0.25))\n",
    "\n",
    "# plt.contourf(X1, \n",
    "#              X2, \n",
    "#              classifier.predict(sc.transform(np.array([X1.ravel(),\n",
    "#                                                        X2.ravel()]).T)).reshape(X1.shape),\n",
    "#              alpha = 0.75, cmap = ListedColormap(('red', 'green')))\n",
    "\n",
    "# plt.xlim(X1.min(), X1.max())\n",
    "# plt.ylim(X2.min(), X2.max())\n",
    "\n",
    "# for i, j in enumerate(np.unique(y_set)):\n",
    "#     plt.scatter(X_set[y_set == j, 0], X_set[y_set == j, 1], c = ListedColormap(('red', 'green'))(i), label = j)\n",
    "    \n",
    "    \n",
    "# plt.title('Logistic Regression (Training set)')\n",
    "# plt.xlabel('Age')\n",
    "# plt.ylabel('Estimated Salary')\n",
    "# plt.legend()\n",
    "# plt.show()"
   ]
  },
  {
   "cell_type": "code",
   "execution_count": 48,
   "id": "cbff7b8d",
   "metadata": {},
   "outputs": [],
   "source": [
    "# from matplotlib.colors import ListedColormap\n",
    "# X_set, y_set = sc.inverse_transform(X_test), y_test\n",
    "# X1, X2 = np.meshgrid(np.arange(start = X_set[:, 0].min() - 10, stop = X_set[:, 0].max() + 10, step = 0.25),\n",
    "#                      np.arange(start = X_set[:, 1].min() - 1000, stop = X_set[:, 1].max() + 1000, step = 0.25))\n",
    "# plt.contourf(X1, X2, classifier.predict(sc.transform(np.array([X1.ravel(), X2.ravel()]).T)).reshape(X1.shape),\n",
    "#              alpha = 0.75, cmap = ListedColormap(('red', 'green')))\n",
    "# plt.xlim(X1.min(), X1.max())\n",
    "# plt.ylim(X2.min(), X2.max())\n",
    "# for i, j in enumerate(np.unique(y_set)):\n",
    "#     plt.scatter(X_set[y_set == j, 0], X_set[y_set == j, 1], c = ListedColormap(('red', 'green'))(i), label = j)\n",
    "# plt.title('Logistic Regression (Test set)')\n",
    "# plt.xlabel('Age')\n",
    "# plt.ylabel('Estimated Salary')\n",
    "# plt.legend()\n",
    "# plt.show()"
   ]
  },
  {
   "cell_type": "code",
   "execution_count": null,
   "id": "a57231f1",
   "metadata": {},
   "outputs": [],
   "source": []
  }
 ],
 "metadata": {
  "kernelspec": {
   "display_name": "Python 3",
   "language": "python",
   "name": "python3"
  },
  "language_info": {
   "codemirror_mode": {
    "name": "ipython",
    "version": 3
   },
   "file_extension": ".py",
   "mimetype": "text/x-python",
   "name": "python",
   "nbconvert_exporter": "python",
   "pygments_lexer": "ipython3",
   "version": "3.8.8"
  }
 },
 "nbformat": 4,
 "nbformat_minor": 5
}
