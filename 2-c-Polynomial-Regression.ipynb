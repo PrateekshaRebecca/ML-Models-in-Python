{
 "cells": [
  {
   "cell_type": "markdown",
   "id": "0ef5ab56",
   "metadata": {},
   "source": [
    "# Main Template\n",
    "1 - import Libraries \\\n",
    "2 - Import data set \\\n",
    "3 - Splitting dataset \\\n",
    "4 - Feature Scaling \\\n",
    "5 - Training the model \\\n",
    "6 - Predicting \\\n",
    "7 - Testing \\\n",
    "8 - Visualization"
   ]
  },
  {
   "cell_type": "markdown",
   "id": "5fb3a6a5",
   "metadata": {},
   "source": [
    "# 1 - Importing Libraries"
   ]
  },
  {
   "cell_type": "code",
   "execution_count": 1,
   "id": "93477141",
   "metadata": {},
   "outputs": [],
   "source": [
    "import numpy as np\n",
    "import pandas as pd\n",
    "from matplotlib import pyplot as plt "
   ]
  },
  {
   "cell_type": "markdown",
   "id": "5819169d",
   "metadata": {},
   "source": [
    "# 2 - Import dataset"
   ]
  },
  {
   "cell_type": "code",
   "execution_count": 3,
   "id": "c0e2526f",
   "metadata": {},
   "outputs": [],
   "source": [
    "dataset = pd.read_csv('Position_Salaries.csv')\n",
    "X = dataset.il`oc[:, :-1].values\n",
    "y = dataset.iloc[:,-1].values"
   ]
  },
  {
   "cell_type": "code",
   "execution_count": null,
   "id": "6b4c707b",
   "metadata": {},
   "outputs": [],
   "source": [
    " We will not be splitting the dataset. we will be "
   ]
  },
  {
   "cell_type": "code",
   "execution_count": null,
   "id": "d619d810",
   "metadata": {},
   "outputs": [],
   "source": []
  },
  {
   "cell_type": "code",
   "execution_count": null,
   "id": "e46c9032",
   "metadata": {},
   "outputs": [],
   "source": []
  },
  {
   "cell_type": "code",
   "execution_count": null,
   "id": "c657913f",
   "metadata": {},
   "outputs": [],
   "source": []
  },
  {
   "cell_type": "code",
   "execution_count": null,
   "id": "e9e641b8",
   "metadata": {},
   "outputs": [],
   "source": []
  },
  {
   "cell_type": "code",
   "execution_count": null,
   "id": "c9669be3",
   "metadata": {},
   "outputs": [],
   "source": []
  }
 ],
 "metadata": {
  "kernelspec": {
   "display_name": "Python 3",
   "language": "python",
   "name": "python3"
  },
  "language_info": {
   "codemirror_mode": {
    "name": "ipython",
    "version": 3
   },
   "file_extension": ".py",
   "mimetype": "text/x-python",
   "name": "python",
   "nbconvert_exporter": "python",
   "pygments_lexer": "ipython3",
   "version": "3.8.8"
  }
 },
 "nbformat": 4,
 "nbformat_minor": 5
}
